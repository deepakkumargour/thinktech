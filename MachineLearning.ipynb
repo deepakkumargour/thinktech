{
  "nbformat": 4,
  "nbformat_minor": 0,
  "metadata": {
    "colab": {
      "name": "MachineLearning.ipynb",
      "version": "0.3.2",
      "provenance": [],
      "collapsed_sections": [],
      "include_colab_link": true
    },
    "kernelspec": {
      "name": "python3",
      "display_name": "Python 3"
    }
  },
  "cells": [
    {
      "cell_type": "markdown",
      "metadata": {
        "id": "view-in-github",
        "colab_type": "text"
      },
      "source": [
        "<a href=\"https://colab.research.google.com/github/deepakkumargour/thinktech/blob/master/MachineLearning.ipynb\" target=\"_parent\"><img src=\"https://colab.research.google.com/assets/colab-badge.svg\" alt=\"Open In Colab\"/></a>"
      ]
    },
    {
      "cell_type": "code",
      "metadata": {
        "id": "epqBwZmOIjwU",
        "colab_type": "code",
        "colab": {}
      },
      "source": [
        "# Differentiate Between Apple and Ornage\n",
        "# Now Creating Dataset for Apple and Orange\n",
        "#features=[[100,\"smooth\"],[12,\"smooth\"],[130,\"bumpy\"],[150,\"bumpy\"]] learner required numeric value\n",
        "features=[[100,0],[122,0],[130,1],[150,1]] # 1 for bumpy 0 for smooth\n",
        "\n"
      ],
      "execution_count": 0,
      "outputs": []
    },
    {
      "cell_type": "code",
      "metadata": {
        "id": "k6mFTRujJmP2",
        "colab_type": "code",
        "colab": {}
      },
      "source": [
        "# Time for answer/label\n",
        "label=[\"apple\",\"apple\",\"orange\",\"orange\"]"
      ],
      "execution_count": 0,
      "outputs": []
    },
    {
      "cell_type": "code",
      "metadata": {
        "id": "pQMwUOuQJ3NA",
        "colab_type": "code",
        "colab": {}
      },
      "source": [
        "# now gettting decision tree classifier for prediction\n",
        "from sklearn.tree import DecisionTreeClassifier \n"
      ],
      "execution_count": 0,
      "outputs": []
    },
    {
      "cell_type": "code",
      "metadata": {
        "id": "l0gvmMZVLIkX",
        "colab_type": "code",
        "colab": {}
      },
      "source": [
        "clf=DecisionTreeClassifier()  #load data"
      ],
      "execution_count": 0,
      "outputs": []
    },
    {
      "cell_type": "code",
      "metadata": {
        "id": "QwZyvMyKLTy3",
        "colab_type": "code",
        "colab": {}
      },
      "source": [
        "# Training of Classifier\n",
        "trained=clf.fit(features,label)"
      ],
      "execution_count": 0,
      "outputs": []
    },
    {
      "cell_type": "code",
      "metadata": {
        "id": "yN9VMc_2MTbo",
        "colab_type": "code",
        "colab": {
          "base_uri": "https://localhost:8080/",
          "height": 34
        },
        "outputId": "eba7699d-aa14-44eb-856e-707ad2f12dc3"
      },
      "source": [
        "# give some question \n",
        "trained.predict([[10,0]])"
      ],
      "execution_count": 16,
      "outputs": [
        {
          "output_type": "execute_result",
          "data": {
            "text/plain": [
              "array(['apple'], dtype='<U6')"
            ]
          },
          "metadata": {
            "tags": []
          },
          "execution_count": 16
        }
      ]
    },
    {
      "cell_type": "code",
      "metadata": {
        "id": "unl-LF5uN2KY",
        "colab_type": "code",
        "colab": {}
      },
      "source": [
        ""
      ],
      "execution_count": 0,
      "outputs": []
    }
  ]
}